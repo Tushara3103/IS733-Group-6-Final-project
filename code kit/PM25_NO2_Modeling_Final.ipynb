{
 "cells": [
  {
   "cell_type": "markdown",
   "id": "36adb442",
   "metadata": {},
   "source": [
    "# Air Pollution Prediction: PM2.5 and NO₂\n",
    "This notebook uses traffic and weather data to model air pollution levels using regression and clustering techniques."
   ]
  },
  {
   "cell_type": "code",
   "execution_count": null,
   "id": "88c1ee40",
   "metadata": {},
   "outputs": [],
   "source": [
    "import pandas as pd\n",
    "import numpy as np\n",
    "import matplotlib.pyplot as plt\n",
    "import seaborn as sns\n",
    "\n",
    "from sklearn.model_selection import train_test_split\n",
    "from sklearn.preprocessing import MinMaxScaler\n",
    "from sklearn.ensemble import RandomForestRegressor, GradientBoostingRegressor\n",
    "from sklearn.metrics import mean_squared_error, r2_score\n",
    "from sklearn.cluster import KMeans"
   ]
  },
  {
   "cell_type": "code",
   "execution_count": null,
   "id": "6c705168",
   "metadata": {},
   "outputs": [],
   "source": [
    "# Load dataset\n",
    "df = pd.read_csv('AirPollution_Traffic_Weather_Dataset.csv')\n",
    "\n",
    "# Drop missing values\n",
    "df.dropna(inplace=True)"
   ]
  },
  {
   "cell_type": "code",
   "execution_count": null,
   "id": "111adca6",
   "metadata": {},
   "outputs": [],
   "source": [
    "# Normalize numerical features\n",
    "scale_cols = ['Vehicle_Count', 'Congestion_Index', 'Temperature', 'Humidity', 'Wind_Speed']\n",
    "scaler = MinMaxScaler()\n",
    "df[scale_cols] = scaler.fit_transform(df[scale_cols])"
   ]
  },
  {
   "cell_type": "code",
   "execution_count": null,
   "id": "801625dd",
   "metadata": {},
   "outputs": [],
   "source": [
    "# Feature and target selection\n",
    "features = ['Vehicle_Count', 'Traffic_Level', 'Congestion_Index', 'Temperature', 'Humidity', 'Wind_Speed']\n",
    "X = df[features]\n",
    "y_pm25 = df['PM2.5']\n",
    "y_no2 = df['NO2']"
   ]
  },
  {
   "cell_type": "code",
   "execution_count": null,
   "id": "bb6014ec",
   "metadata": {},
   "outputs": [],
   "source": [
    "# Train-test split\n",
    "X_train_pm25, X_test_pm25, y_train_pm25, y_test_pm25 = train_test_split(X, y_pm25, test_size=0.2, random_state=42)\n",
    "X_train_no2, X_test_no2, y_train_no2, y_test_no2 = train_test_split(X, y_no2, test_size=0.2, random_state=42)"
   ]
  },
  {
   "cell_type": "code",
   "execution_count": null,
   "id": "18298825",
   "metadata": {},
   "outputs": [],
   "source": [
    "# PM2.5 Modeling\n",
    "rf_pm25 = RandomForestRegressor(n_estimators=100, random_state=42)\n",
    "rf_pm25.fit(X_train_pm25, y_train_pm25)\n",
    "pred_rf_pm25 = rf_pm25.predict(X_test_pm25)\n",
    "\n",
    "gb_pm25 = GradientBoostingRegressor(n_estimators=100, learning_rate=0.1, random_state=42)\n",
    "gb_pm25.fit(X_train_pm25, y_train_pm25)\n",
    "pred_gb_pm25 = gb_pm25.predict(X_test_pm25)\n",
    "\n",
    "print(\"PM2.5 - Random Forest\")\n",
    "print(\"  RMSE:\", mean_squared_error(y_test_pm25, pred_rf_pm25, squared=False))\n",
    "print(\"  R² Score:\", r2_score(y_test_pm25, pred_rf_pm25))\n",
    "\n",
    "print(\"\\nPM2.5 - Gradient Boosting\")\n",
    "print(\"  RMSE:\", mean_squared_error(y_test_pm25, pred_gb_pm25, squared=False))\n",
    "print(\"  R² Score:\", r2_score(y_test_pm25, pred_gb_pm25))"
   ]
  },
  {
   "cell_type": "code",
   "execution_count": null,
   "id": "9a274dc3",
   "metadata": {},
   "outputs": [],
   "source": [
    "# NO2 Modeling\n",
    "rf_no2 = RandomForestRegressor(n_estimators=100, random_state=42)\n",
    "rf_no2.fit(X_train_no2, y_train_no2)\n",
    "pred_rf_no2 = rf_no2.predict(X_test_no2)\n",
    "\n",
    "gb_no2 = GradientBoostingRegressor(n_estimators=100, learning_rate=0.1, random_state=42)\n",
    "gb_no2.fit(X_train_no2, y_train_no2)\n",
    "pred_gb_no2 = gb_no2.predict(X_test_no2)\n",
    "\n",
    "print(\"\\nNO2 - Random Forest\")\n",
    "print(\"  RMSE:\", mean_squared_error(y_test_no2, pred_rf_no2, squared=False))\n",
    "print(\"  R² Score:\", r2_score(y_test_no2, pred_rf_no2))\n",
    "\n",
    "print(\"\\nNO2 - Gradient Boosting\")\n",
    "print(\"  RMSE:\", mean_squared_error(y_test_no2, pred_gb_no2, squared=False))\n",
    "print(\"  R² Score:\", r2_score(y_test_no2, pred_gb_no2))"
   ]
  },
  {
   "cell_type": "code",
   "execution_count": null,
   "id": "654cf2d3",
   "metadata": {},
   "outputs": [],
   "source": [
    "# Feature Importance\n",
    "sns.barplot(x=rf_pm25.feature_importances_, y=features)\n",
    "plt.title(\"Feature Importance - PM2.5 (Random Forest)\")\n",
    "plt.xlabel(\"Importance\")\n",
    "plt.ylabel(\"Features\")\n",
    "plt.show()\n",
    "\n",
    "sns.barplot(x=rf_no2.feature_importances_, y=features)\n",
    "plt.title(\"Feature Importance - NO2 (Random Forest)\")\n",
    "plt.xlabel(\"Importance\")\n",
    "plt.ylabel(\"Features\")\n",
    "plt.show()"
   ]
  },
  {
   "cell_type": "code",
   "execution_count": null,
   "id": "ea47f7a1",
   "metadata": {},
   "outputs": [],
   "source": [
    "# K-Means Clustering\n",
    "kmeans = KMeans(n_clusters=3, random_state=42)\n",
    "df['Cluster'] = kmeans.fit_predict(df[['Latitude', 'Longitude', 'PM2.5', 'NO2']])\n",
    "\n",
    "plt.figure(figsize=(10, 6))\n",
    "plt.scatter(df['Longitude'], df['Latitude'], c=df['Cluster'], cmap='viridis', alpha=0.6)\n",
    "plt.title(\"K-Means Clustering of Pollution Hotspots\")\n",
    "plt.xlabel(\"Longitude\")\n",
    "plt.ylabel(\"Latitude\")\n",
    "plt.colorbar(label='Cluster')\n",
    "plt.show()"
   ]
  }
 ],
 "metadata": {},
 "nbformat": 4,
 "nbformat_minor": 5
}
